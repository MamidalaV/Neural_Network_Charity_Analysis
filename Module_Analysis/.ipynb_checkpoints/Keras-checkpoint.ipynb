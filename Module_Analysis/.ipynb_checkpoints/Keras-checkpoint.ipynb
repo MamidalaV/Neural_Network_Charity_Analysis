{
 "cells": [
  {
   "cell_type": "code",
   "execution_count": 1,
   "id": "022235f0",
   "metadata": {},
   "outputs": [],
   "source": [
    "# Import our dependencies\n",
    "import pandas as pd\n",
    "import matplotlib as plt\n",
    "from sklearn.datasets import make_blobs\n",
    "import sklearn as skl\n",
    "import tensorflow as tf"
   ]
  },
  {
   "cell_type": "code",
   "execution_count": 2,
   "id": "f5e39543",
   "metadata": {},
   "outputs": [
    {
     "data": {
      "text/plain": [
       "<AxesSubplot:xlabel='Feature 1', ylabel='Feature 2'>"
      ]
     },
     "execution_count": 2,
     "metadata": {},
     "output_type": "execute_result"
    },
    {
     "data": {
      "image/png": "[encoded data removed]",
      "text/plain": [
       "<Figure size 432x288 with 2 Axes>"
      ]
     },
     "metadata": {
      "needs_background": "light"
     },
     "output_type": "display_data"
    }
   ],
   "source": [
    "## Generate dummy data\n",
    "X, y = make_blobs(n_samples=1000, centers =2, n_features=2, random_state=78)\n",
    "\n",
    "# Creating a DataFrame with the dummy data\n",
    "df = pd.DataFrame(X, columns=[\"Feature 1\", \"Feature 2\"])\n",
    "df[\"Target\"] = y\n",
    "\n",
    "# Plotting the dummy data\n",
    "df.plot.scatter(x=\"Feature 1\", y=\"Feature 2\", c=\"Target\", colormap=\"winter\")"
   ]
  },
  {
   "cell_type": "code",
   "execution_count": 3,
   "id": "6266cfb9",
   "metadata": {},
   "outputs": [],
   "source": [
    "# Use sklearn to split dataset\n",
    "from sklearn.model_selection import train_test_split\n",
    "X_train, X_test, y_train, y_test = train_test_split(X,\n",
    "                                                   y,\n",
    "                                                   random_state=78)"
   ]
  },
  {
   "cell_type": "code",
   "execution_count": 4,
   "id": "df94785a",
   "metadata": {},
   "outputs": [],
   "source": [
    "# Create scaler instance\n",
    "X_scaler = skl.preprocessing.StandardScaler()\n",
    "\n",
    "#Fit the scaler\n",
    "X_scaler.fit(X_train)\n",
    "\n",
    "#Scale the data\n",
    "X_train_scaled = X_scaler.transform(X_train)\n",
    "X_test_scaled = X_scaler.transform(X_test)"
   ]
  },
  {
   "cell_type": "code",
   "execution_count": 5,
   "id": "c9c5a8fe",
   "metadata": {},
   "outputs": [],
   "source": [
    "# Create the Keras Sequential model\n",
    "nn_model = tf.keras.models.Sequential()"
   ]
  },
  {
   "cell_type": "code",
   "execution_count": 6,
   "id": "623d95cf",
   "metadata": {},
   "outputs": [
    {
     "data": {
      "text/plain": [
       "array([[ 0.8212924 ,  0.73431952],\n",
       "       [ 0.84556072,  0.71621234],\n",
       "       [-0.96401238, -0.69545507],\n",
       "       [ 1.04320896,  1.31933076],\n",
       "       [-1.14811953, -1.61532059],\n",
       "       [-0.99137937, -0.41229474],\n",
       "       [-1.11170822, -0.512667  ],\n",
       "       [ 1.11015708, -0.03572675],\n",
       "       [-0.86860745, -0.13126172],\n",
       "       [ 1.03652294,  1.52949059],\n",
       "       [ 1.05349203,  0.83674938],\n",
       "       [-1.12641261,  0.5188663 ],\n",
       "       [-0.76229126,  0.44946348],\n",
       "       [ 0.83840882, -0.4241624 ],\n",
       "       [-0.68689631, -0.35505501],\n",
       "       [ 1.03943748,  0.02970441],\n",
       "       [ 0.96023564,  0.35357859],\n",
       "       [ 1.07924691, -0.74347914],\n",
       "       [-0.71154913, -1.62287655],\n",
       "       [-1.09145987, -0.58631098],\n",
       "       [-0.84760147, -0.81128108],\n",
       "       [-1.00016013, -0.11256642],\n",
       "       [ 1.00656572,  0.25564969],\n",
       "       [ 0.79240083,  0.98677907],\n",
       "       [-0.99280565, -0.90149462],\n",
       "       [-1.13545766, -1.21831129],\n",
       "       [-1.1310005 , -0.36087418],\n",
       "       [-1.06042864, -0.65525975],\n",
       "       [-0.62275726, -1.96748005],\n",
       "       [ 1.07542969,  0.52078866],\n",
       "       [ 1.18849043,  0.09126983],\n",
       "       [ 1.0314019 , -0.45046548],\n",
       "       [ 1.02413712,  0.88235879],\n",
       "       [ 1.01925991,  1.02441147],\n",
       "       [ 1.22076604,  0.28949568],\n",
       "       [ 0.89536936,  1.9904152 ],\n",
       "       [ 1.1102797 ,  0.77629227],\n",
       "       [ 1.07147961,  1.23975786],\n",
       "       [ 0.78559537,  1.28451638],\n",
       "       [ 1.04581714,  0.08034325],\n",
       "       [-1.02179947, -0.78060181],\n",
       "       [ 1.1272804 ,  0.550336  ],\n",
       "       [-0.99005572, -0.69651619],\n",
       "       [-0.82541708, -0.30843709],\n",
       "       [ 1.00877576,  0.10001805],\n",
       "       [-1.00285591, -0.14648761],\n",
       "       [-0.96058982, -0.78987639],\n",
       "       [ 1.12186542,  1.16100072],\n",
       "       [ 0.99828323,  0.96305641],\n",
       "       [-0.96860014, -0.21762877],\n",
       "       [ 1.17333632,  0.86931272],\n",
       "       [-0.8652558 ,  0.25388242],\n",
       "       [-1.12362074, -0.90562286],\n",
       "       [ 0.96491273,  0.40567021],\n",
       "       [ 0.84004301,  1.59212357],\n",
       "       [ 0.79686182,  0.82770662],\n",
       "       [-0.9679117 , -1.0936115 ],\n",
       "       [ 0.99319706,  0.63999631],\n",
       "       [-0.8819362 , -0.72685482],\n",
       "       [ 0.89793185,  1.64027522],\n",
       "       [-0.98369487,  0.28002605],\n",
       "       [ 1.25749385,  0.99949563],\n",
       "       [-1.25970142, -1.28953659],\n",
       "       [-1.08311158, -1.24359941],\n",
       "       [ 1.01180258,  0.88624418],\n",
       "       [ 0.99496274,  0.09610508],\n",
       "       [-1.13141763, -1.61398698],\n",
       "       [-0.67990678, -0.16446718],\n",
       "       [ 0.81793547,  0.39305515],\n",
       "       [-0.96126602, -0.45951134],\n",
       "       [-0.91692727, -1.49113292],\n",
       "       [-1.00672092, -0.72479213],\n",
       "       [ 0.98175733,  2.08418224],\n",
       "       [ 1.30827108,  0.83119686],\n",
       "       [ 0.68091997,  0.24891812],\n",
       "       [-1.11935046, -1.01895797],\n",
       "       [ 1.31943529,  1.0885743 ],\n",
       "       [-0.91297728, -1.06334224],\n",
       "       [ 1.0219507 ,  0.67020993],\n",
       "       [ 0.86468577,  0.70925901],\n",
       "       [-0.92614943,  0.21256482],\n",
       "       [-0.9164623 , -1.85295813],\n",
       "       [ 0.80231402,  1.90494132],\n",
       "       [ 0.84759635,  0.18998675],\n",
       "       [ 0.88127892,  1.74055177],\n",
       "       [-0.73885789, -0.84023339],\n",
       "       [-1.27295446, -1.02736416],\n",
       "       [ 0.89313856,  1.34630272],\n",
       "       [-0.91272834, -2.09110451],\n",
       "       [-1.04574538, -1.04065446],\n",
       "       [ 1.33499682,  0.77789693],\n",
       "       [-0.89469601, -2.04955863],\n",
       "       [-1.11219305, -1.04490521],\n",
       "       [ 1.13534568,  0.2884683 ],\n",
       "       [ 1.12236801,  1.19220487],\n",
       "       [ 0.8745423 ,  1.31494831],\n",
       "       [-1.03486104, -0.29938694],\n",
       "       [-1.04751682, -1.15467964],\n",
       "       [ 1.00124989,  0.86112423],\n",
       "       [-1.16032894, -1.2852098 ],\n",
       "       [ 0.9562768 ,  0.84841466],\n",
       "       [ 1.03872794,  0.22654991],\n",
       "       [ 0.86603563,  0.24160667],\n",
       "       [ 0.87347085,  1.14792709],\n",
       "       [-1.0735343 , -0.08452571],\n",
       "       [-0.96954669, -1.85547139],\n",
       "       [ 1.34384861,  0.43339845],\n",
       "       [ 1.04979317,  1.07728589],\n",
       "       [-0.92839112, -1.96012585],\n",
       "       [ 1.08480544,  0.54900912],\n",
       "       [ 1.217525  ,  1.052181  ],\n",
       "       [ 0.9017791 , -0.00384004],\n",
       "       [-0.99092411, -1.65339468],\n",
       "       [ 0.90432314,  1.06225425],\n",
       "       [-0.87189199, -2.02385481],\n",
       "       [-0.92597697, -1.90076832],\n",
       "       [ 1.03724456,  0.37251476],\n",
       "       [-0.90113293, -1.17172601],\n",
       "       [-1.16323317, -0.98463147],\n",
       "       [ 1.05703971,  1.7050123 ],\n",
       "       [-0.97708423, -1.76983174],\n",
       "       [ 1.10994624, -0.18920395],\n",
       "       [-0.82249892, -1.13759499],\n",
       "       [-0.9242316 , -1.3462176 ],\n",
       "       [-1.1025668 , -1.79132428],\n",
       "       [-0.94187965, -0.70190646],\n",
       "       [ 1.04861551,  0.47952068],\n",
       "       [-1.02237685, -1.8075836 ],\n",
       "       [-1.02797526, -2.06185001],\n",
       "       [-1.28316687, -0.52215961],\n",
       "       [-0.73062719, -1.42183481],\n",
       "       [-0.75934317,  0.33751912],\n",
       "       [ 1.02595249,  0.82429577],\n",
       "       [ 1.28840795,  1.21545677],\n",
       "       [-1.111854  , -1.1750871 ],\n",
       "       [-0.75579039, -0.63871736],\n",
       "       [ 1.01103355,  1.15553741],\n",
       "       [ 1.11730946, -0.12792444],\n",
       "       [ 0.91178552, -0.2630822 ],\n",
       "       [-1.29567705, -1.52267826],\n",
       "       [ 1.17605331,  1.00993098],\n",
       "       [-0.84072281, -1.47591213],\n",
       "       [ 0.91554923,  0.6217691 ],\n",
       "       [ 1.01516065,  1.91173119],\n",
       "       [ 0.85002395,  1.05945378],\n",
       "       [ 1.17868399,  1.16819679],\n",
       "       [ 0.98015517,  2.10562783],\n",
       "       [ 0.95951517,  0.93014285],\n",
       "       [ 0.88246748, -0.4320381 ],\n",
       "       [ 0.9999819 ,  0.58676227],\n",
       "       [ 0.9933401 ,  0.63246952],\n",
       "       [-1.11608906, -0.77242379],\n",
       "       [-1.39107006, -0.86117122],\n",
       "       [ 1.08774959,  0.01696087],\n",
       "       [-1.07137675, -0.85603406],\n",
       "       [ 1.14371662, -0.10776187],\n",
       "       [ 1.07089178,  1.50349582],\n",
       "       [ 1.10291211,  0.0799405 ],\n",
       "       [-0.82205068, -1.70113365],\n",
       "       [ 1.14979653,  0.0466616 ],\n",
       "       [ 1.19279057, -0.15535956],\n",
       "       [-1.00868573, -2.0339509 ],\n",
       "       [-1.42016612, -1.50194658],\n",
       "       [-0.90382411, -0.82690886],\n",
       "       [ 1.10522901, -1.0368691 ],\n",
       "       [-1.06837065, -1.29218824],\n",
       "       [ 0.89284786,  0.88409609],\n",
       "       [-1.07359471, -1.26897744],\n",
       "       [-0.86742794, -2.11224172],\n",
       "       [-0.97030746, -0.51515705],\n",
       "       [ 1.05909754,  1.26696465],\n",
       "       [-0.98703944, -0.48966887],\n",
       "       [ 0.95890654,  1.73765488],\n",
       "       [ 1.06398036,  0.3160243 ],\n",
       "       [ 0.93409753,  1.50627321],\n",
       "       [-0.97115296,  0.20296699],\n",
       "       [-0.93340757, -0.14376353],\n",
       "       [-0.90006568,  0.42690038],\n",
       "       [-1.17983297, -0.48227876],\n",
       "       [ 1.23541629,  0.85312084],\n",
       "       [ 0.93451797,  0.50795498],\n",
       "       [ 1.29121619,  1.65892405],\n",
       "       [-0.93846687, -0.3502112 ],\n",
       "       [-1.06466214, -1.04448868],\n",
       "       [ 1.0649701 ,  2.12028458],\n",
       "       [ 0.98490306,  1.04605846],\n",
       "       [ 1.04138783,  0.88279174],\n",
       "       [-1.10342891, -0.86413989],\n",
       "       [-0.99559873, -0.77544679],\n",
       "       [ 0.94506672,  1.20801994],\n",
       "       [-0.83679876,  0.23196814],\n",
       "       [-0.92287663, -0.29096937],\n",
       "       [ 0.97817335,  0.72039829],\n",
       "       [ 1.00120412,  0.50086741],\n",
       "       [ 1.28516341,  0.27231671],\n",
       "       [ 1.21369189,  0.45322854],\n",
       "       [-0.81007816, -0.98839623],\n",
       "       [-1.00798515, -0.98070814],\n",
       "       [-0.86693812, -0.3693177 ],\n",
       "       [ 1.0161571 ,  1.75580843],\n",
       "       [ 0.99540669,  0.0894127 ],\n",
       "       [-1.33985902, -2.06757643],\n",
       "       [ 0.94248824,  0.44240658],\n",
       "       [ 1.26354776,  0.66895771],\n",
       "       [ 1.01283173,  0.7833824 ],\n",
       "       [ 0.97757128,  0.17318413],\n",
       "       [ 0.66430747,  1.48156551],\n",
       "       [-1.00237347, -0.47026008],\n",
       "       [-0.84706894, -0.61434309],\n",
       "       [-0.9930668 , -1.24786119],\n",
       "       [-0.97412293, -0.79064524],\n",
       "       [-0.88741434, -1.05138064],\n",
       "       [ 0.84974706,  0.50376675],\n",
       "       [ 1.22630554,  0.31712084],\n",
       "       [ 1.18696484,  1.27196915],\n",
       "       [ 0.99910224,  0.28640606],\n",
       "       [-1.16857335, -1.64514131],\n",
       "       [-0.94543971, -1.49995501],\n",
       "       [ 1.09421334,  0.38426906],\n",
       "       [ 1.15039073,  1.22090379],\n",
       "       [ 1.0251466 ,  0.86144861],\n",
       "       [-1.32543679,  0.46758967],\n",
       "       [ 1.1474797 , -0.08983353],\n",
       "       [ 1.14066809, -0.61600795],\n",
       "       [-1.07218802, -0.23702169],\n",
       "       [ 1.15691126,  0.33348335],\n",
       "       [-0.9377289 , -0.52874729],\n",
       "       [-1.05697254, -1.53223602],\n",
       "       [ 1.04355398,  0.36162453],\n",
       "       [ 1.07699513,  1.42902072],\n",
       "       [-0.74040476, -0.78797277],\n",
       "       [-1.13026843, -0.56296295],\n",
       "       [-0.98565687, -0.60914032],\n",
       "       [-1.15593803, -0.4593175 ],\n",
       "       [ 1.00962687,  1.04104158],\n",
       "       [ 1.04487715,  0.48571038],\n",
       "       [ 0.83719523,  0.7851429 ],\n",
       "       [ 1.33607024,  1.36070203],\n",
       "       [-1.20046773, -0.47542815],\n",
       "       [-1.15032599, -1.65920782],\n",
       "       [-1.09943945, -1.73404385],\n",
       "       [-1.02983287, -1.66828712],\n",
       "       [ 0.91934393,  1.35426659],\n",
       "       [-0.98828997, -1.20713012],\n",
       "       [-1.1585908 , -1.23252112],\n",
       "       [ 0.91394853,  0.24228223],\n",
       "       [ 1.20550439,  2.07975217],\n",
       "       [-0.93859036, -1.55469082],\n",
       "       [-1.23776954, -0.646335  ],\n",
       "       [-1.14900603, -0.4707987 ]])"
      ]
     },
     "execution_count": 6,
     "metadata": {},
     "output_type": "execute_result"
    }
   ],
   "source": [
    "X_test_scaled"
   ]
  },
  {
   "cell_type": "code",
   "execution_count": 7,
   "id": "21d04de5",
   "metadata": {},
   "outputs": [],
   "source": [
    "# Add our first Dense layer, including the input layer\n",
    "nn_model.add(tf.keras.layers.Dense(units=1, activation=\"relu\", input_dim=2))"
   ]
  },
  {
   "cell_type": "code",
   "execution_count": 8,
   "id": "6b80a824",
   "metadata": {},
   "outputs": [],
   "source": [
    "# Add the output layer that uses a probability activation function\n",
    "nn_model.add(tf.keras.layers.Dense(units=1, activation=\"sigmoid\"))"
   ]
  },
  {
   "cell_type": "code",
   "execution_count": 9,
   "id": "37fad31a",
   "metadata": {},
   "outputs": [
    {
     "name": "stdout",
     "output_type": "stream",
     "text": [
      "Model: \"sequential\"\n",
      "_________________________________________________________________\n",
      "Layer (type)                 Output Shape              Param #   \n",
      "=================================================================\n",
      "dense (Dense)                (None, 1)                 3         \n",
      "_________________________________________________________________\n",
      "dense_1 (Dense)              (None, 1)                 2         \n",
      "=================================================================\n",
      "Total params: 5\n",
      "Trainable params: 5\n",
      "Non-trainable params: 0\n",
      "_________________________________________________________________\n"
     ]
    }
   ],
   "source": [
    "# Check the structure of the Sequential model\n",
    "nn_model.summary()"
   ]
  },
  {
   "cell_type": "code",
   "execution_count": 10,
   "id": "559c7791",
   "metadata": {},
   "outputs": [],
   "source": [
    "# Compile the Sequential model together and customize metrics\n",
    "nn_model.compile(loss=\"binary_crossentropy\", optimizer=\"adam\", metrics=[\"accuracy\"])"
   ]
  },
  {
   "cell_type": "code",
   "execution_count": 11,
   "id": "7995ae27",
   "metadata": {},
   "outputs": [
    {
     "name": "stdout",
     "output_type": "stream",
     "text": [
      "Epoch 1/100\n",
      "24/24 [==============================] - 0s 858us/step - loss: 0.6869 - accuracy: 0.9760\n",
      "Epoch 2/100\n",
      "24/24 [==============================] - 0s 772us/step - loss: 0.6810 - accuracy: 1.0000\n",
      "Epoch 3/100\n",
      "24/24 [==============================] - 0s 650us/step - loss: 0.6741 - accuracy: 0.6627\n",
      "Epoch 4/100\n",
      "24/24 [==============================] - 0s 737us/step - loss: 0.6658 - accuracy: 0.8333\n",
      "Epoch 5/100\n",
      "24/24 [==============================] - 0s 694us/step - loss: 0.6564 - accuracy: 1.0000\n",
      "Epoch 6/100\n",
      "24/24 [==============================] - 0s 764us/step - loss: 0.6458 - accuracy: 1.0000\n",
      "Epoch 7/100\n",
      "24/24 [==============================] - 0s 882us/step - loss: 0.6339 - accuracy: 1.0000\n",
      "Epoch 8/100\n",
      "24/24 [==============================] - 0s 802us/step - loss: 0.6211 - accuracy: 1.0000\n",
      "Epoch 9/100\n",
      "24/24 [==============================] - 0s 693us/step - loss: 0.6073 - accuracy: 1.0000\n",
      "Epoch 10/100\n",
      "24/24 [==============================] - 0s 678us/step - loss: 0.5929 - accuracy: 1.0000\n",
      "Epoch 11/100\n",
      "24/24 [==============================] - 0s 736us/step - loss: 0.5777 - accuracy: 1.0000\n",
      "Epoch 12/100\n",
      "24/24 [==============================] - 0s 650us/step - loss: 0.5622 - accuracy: 1.0000\n",
      "Epoch 13/100\n",
      "24/24 [==============================] - 0s 723us/step - loss: 0.5461 - accuracy: 1.0000\n",
      "Epoch 14/100\n",
      "24/24 [==============================] - 0s 693us/step - loss: 0.5302 - accuracy: 1.0000\n",
      "Epoch 15/100\n",
      "24/24 [==============================] - 0s 650us/step - loss: 0.5139 - accuracy: 1.0000\n",
      "Epoch 16/100\n",
      "24/24 [==============================] - 0s 697us/step - loss: 0.4979 - accuracy: 1.0000\n",
      "Epoch 17/100\n",
      "24/24 [==============================] - 0s 693us/step - loss: 0.4820 - accuracy: 1.0000\n",
      "Epoch 18/100\n",
      "24/24 [==============================] - 0s 693us/step - loss: 0.4664 - accuracy: 1.0000\n",
      "Epoch 19/100\n",
      "24/24 [==============================] - 0s 736us/step - loss: 0.4511 - accuracy: 1.0000\n",
      "Epoch 20/100\n",
      "24/24 [==============================] - 0s 724us/step - loss: 0.4363 - accuracy: 1.0000\n",
      "Epoch 21/100\n",
      "24/24 [==============================] - 0s 861us/step - loss: 0.4219 - accuracy: 1.0000\n",
      "Epoch 22/100\n",
      "24/24 [==============================] - 0s 737us/step - loss: 0.4079 - accuracy: 1.0000\n",
      "Epoch 23/100\n",
      "24/24 [==============================] - 0s 834us/step - loss: 0.3945 - accuracy: 1.0000\n",
      "Epoch 24/100\n",
      "24/24 [==============================] - 0s 846us/step - loss: 0.3817 - accuracy: 1.0000\n",
      "Epoch 25/100\n",
      "24/24 [==============================] - 0s 787us/step - loss: 0.3693 - accuracy: 1.0000\n",
      "Epoch 26/100\n",
      "24/24 [==============================] - 0s 737us/step - loss: 0.3574 - accuracy: 1.0000\n",
      "Epoch 27/100\n",
      "24/24 [==============================] - 0s 737us/step - loss: 0.3461 - accuracy: 1.0000\n",
      "Epoch 28/100\n",
      "24/24 [==============================] - 0s 693us/step - loss: 0.3352 - accuracy: 1.0000\n",
      "Epoch 29/100\n",
      "24/24 [==============================] - 0s 693us/step - loss: 0.3248 - accuracy: 1.0000\n",
      "Epoch 30/100\n",
      "24/24 [==============================] - 0s 737us/step - loss: 0.3149 - accuracy: 1.0000\n",
      "Epoch 31/100\n",
      "24/24 [==============================] - 0s 737us/step - loss: 0.3054 - accuracy: 1.0000\n",
      "Epoch 32/100\n",
      "24/24 [==============================] - 0s 728us/step - loss: 0.2964 - accuracy: 1.0000\n",
      "Epoch 33/100\n",
      "24/24 [==============================] - 0s 693us/step - loss: 0.2877 - accuracy: 1.0000\n",
      "Epoch 34/100\n",
      "24/24 [==============================] - 0s 702us/step - loss: 0.2795 - accuracy: 1.0000\n",
      "Epoch 35/100\n",
      "24/24 [==============================] - 0s 737us/step - loss: 0.2716 - accuracy: 1.0000\n",
      "Epoch 36/100\n",
      "24/24 [==============================] - 0s 668us/step - loss: 0.2641 - accuracy: 1.0000\n",
      "Epoch 37/100\n",
      "24/24 [==============================] - 0s 986us/step - loss: 0.2568 - accuracy: 1.0000\n",
      "Epoch 38/100\n",
      "24/24 [==============================] - 0s 737us/step - loss: 0.2499 - accuracy: 1.0000\n",
      "Epoch 39/100\n",
      "24/24 [==============================] - 0s 737us/step - loss: 0.2433 - accuracy: 1.0000\n",
      "Epoch 40/100\n",
      "24/24 [==============================] - 0s 780us/step - loss: 0.2370 - accuracy: 1.0000\n",
      "Epoch 41/100\n",
      "24/24 [==============================] - 0s 779us/step - loss: 0.2309 - accuracy: 1.0000\n",
      "Epoch 42/100\n",
      "24/24 [==============================] - 0s 737us/step - loss: 0.2250 - accuracy: 1.0000\n",
      "Epoch 43/100\n",
      "24/24 [==============================] - 0s 780us/step - loss: 0.2194 - accuracy: 1.0000\n",
      "Epoch 44/100\n",
      "24/24 [==============================] - 0s 737us/step - loss: 0.2141 - accuracy: 1.0000\n",
      "Epoch 45/100\n",
      "24/24 [==============================] - 0s 740us/step - loss: 0.2089 - accuracy: 1.0000\n",
      "Epoch 46/100\n",
      "24/24 [==============================] - 0s 742us/step - loss: 0.2039 - accuracy: 1.0000\n",
      "Epoch 47/100\n",
      "24/24 [==============================] - 0s 737us/step - loss: 0.1991 - accuracy: 1.0000\n",
      "Epoch 48/100\n",
      "24/24 [==============================] - 0s 737us/step - loss: 0.1945 - accuracy: 1.0000\n",
      "Epoch 49/100\n",
      "24/24 [==============================] - 0s 694us/step - loss: 0.1901 - accuracy: 1.0000\n",
      "Epoch 50/100\n",
      "24/24 [==============================] - 0s 737us/step - loss: 0.1858 - accuracy: 1.0000\n",
      "Epoch 51/100\n",
      "24/24 [==============================] - 0s 731us/step - loss: 0.1816 - accuracy: 1.0000\n",
      "Epoch 52/100\n",
      "24/24 [==============================] - 0s 714us/step - loss: 0.1776 - accuracy: 1.0000\n",
      "Epoch 53/100\n",
      "24/24 [==============================] - 0s 693us/step - loss: 0.1738 - accuracy: 1.0000\n",
      "Epoch 54/100\n",
      "24/24 [==============================] - 0s 738us/step - loss: 0.1700 - accuracy: 1.0000\n",
      "Epoch 55/100\n",
      "24/24 [==============================] - 0s 898us/step - loss: 0.1664 - accuracy: 1.0000\n",
      "Epoch 56/100\n",
      "24/24 [==============================] - 0s 1ms/step - loss: 0.1629 - accuracy: 1.0000\n",
      "Epoch 57/100\n",
      "24/24 [==============================] - 0s 823us/step - loss: 0.1595 - accuracy: 1.0000\n",
      "Epoch 58/100\n",
      "24/24 [==============================] - 0s 745us/step - loss: 0.1562 - accuracy: 1.0000\n",
      "Epoch 59/100\n",
      "24/24 [==============================] - 0s 780us/step - loss: 0.1531 - accuracy: 1.0000\n",
      "Epoch 60/100\n",
      "24/24 [==============================] - 0s 737us/step - loss: 0.1500 - accuracy: 1.0000\n",
      "Epoch 61/100\n",
      "24/24 [==============================] - 0s 737us/step - loss: 0.1470 - accuracy: 1.0000\n",
      "Epoch 62/100\n",
      "24/24 [==============================] - 0s 703us/step - loss: 0.1441 - accuracy: 1.0000\n",
      "Epoch 63/100\n",
      "24/24 [==============================] - 0s 738us/step - loss: 0.1412 - accuracy: 1.0000\n",
      "Epoch 64/100\n",
      "24/24 [==============================] - 0s 693us/step - loss: 0.1385 - accuracy: 1.0000\n",
      "Epoch 65/100\n",
      "24/24 [==============================] - 0s 692us/step - loss: 0.1358 - accuracy: 1.0000\n",
      "Epoch 66/100\n",
      "24/24 [==============================] - 0s 705us/step - loss: 0.1332 - accuracy: 1.0000\n",
      "Epoch 67/100\n",
      "24/24 [==============================] - 0s 718us/step - loss: 0.1307 - accuracy: 1.0000\n",
      "Epoch 68/100\n",
      "24/24 [==============================] - 0s 717us/step - loss: 0.1282 - accuracy: 1.0000\n",
      "Epoch 69/100\n",
      "24/24 [==============================] - 0s 607us/step - loss: 0.1258 - accuracy: 1.0000\n",
      "Epoch 70/100\n",
      "24/24 [==============================] - 0s 665us/step - loss: 0.1235 - accuracy: 1.0000\n",
      "Epoch 71/100\n",
      "24/24 [==============================] - 0s 652us/step - loss: 0.1213 - accuracy: 1.0000\n",
      "Epoch 72/100\n",
      "24/24 [==============================] - 0s 751us/step - loss: 0.1191 - accuracy: 1.0000\n",
      "Epoch 73/100\n",
      "24/24 [==============================] - 0s 607us/step - loss: 0.1170 - accuracy: 1.0000\n",
      "Epoch 74/100\n",
      "24/24 [==============================] - 0s 693us/step - loss: 0.1149 - accuracy: 1.0000\n",
      "Epoch 75/100\n",
      "24/24 [==============================] - 0s 693us/step - loss: 0.1128 - accuracy: 1.0000\n",
      "Epoch 76/100\n",
      "24/24 [==============================] - 0s 693us/step - loss: 0.1109 - accuracy: 1.0000\n",
      "Epoch 77/100\n",
      "24/24 [==============================] - 0s 736us/step - loss: 0.1089 - accuracy: 1.0000\n",
      "Epoch 78/100\n",
      "24/24 [==============================] - 0s 683us/step - loss: 0.1070 - accuracy: 1.0000\n",
      "Epoch 79/100\n",
      "24/24 [==============================] - 0s 650us/step - loss: 0.1052 - accuracy: 1.0000\n",
      "Epoch 80/100\n",
      "24/24 [==============================] - 0s 675us/step - loss: 0.1034 - accuracy: 1.0000\n",
      "Epoch 81/100\n"
     ]
    },
    {
     "name": "stdout",
     "output_type": "stream",
     "text": [
      "24/24 [==============================] - 0s 650us/step - loss: 0.1016 - accuracy: 1.0000\n",
      "Epoch 82/100\n",
      "24/24 [==============================] - 0s 650us/step - loss: 0.0999 - accuracy: 1.0000\n",
      "Epoch 83/100\n",
      "24/24 [==============================] - 0s 607us/step - loss: 0.0983 - accuracy: 1.0000\n",
      "Epoch 84/100\n",
      "24/24 [==============================] - 0s 625us/step - loss: 0.0966 - accuracy: 1.0000\n",
      "Epoch 85/100\n",
      "24/24 [==============================] - 0s 737us/step - loss: 0.0950 - accuracy: 1.0000\n",
      "Epoch 86/100\n",
      "24/24 [==============================] - 0s 607us/step - loss: 0.0935 - accuracy: 1.0000\n",
      "Epoch 87/100\n",
      "24/24 [==============================] - 0s 609us/step - loss: 0.0919 - accuracy: 1.0000\n",
      "Epoch 88/100\n",
      "24/24 [==============================] - 0s 607us/step - loss: 0.0905 - accuracy: 1.0000\n",
      "Epoch 89/100\n",
      "24/24 [==============================] - 0s 653us/step - loss: 0.0890 - accuracy: 1.0000\n",
      "Epoch 90/100\n",
      "24/24 [==============================] - 0s 609us/step - loss: 0.0876 - accuracy: 1.0000\n",
      "Epoch 91/100\n",
      "24/24 [==============================] - 0s 650us/step - loss: 0.0862 - accuracy: 1.0000\n",
      "Epoch 92/100\n",
      "24/24 [==============================] - 0s 607us/step - loss: 0.0848 - accuracy: 1.0000\n",
      "Epoch 93/100\n",
      "24/24 [==============================] - 0s 658us/step - loss: 0.0835 - accuracy: 1.0000\n",
      "Epoch 94/100\n",
      "24/24 [==============================] - 0s 664us/step - loss: 0.0822 - accuracy: 1.0000\n",
      "Epoch 95/100\n",
      "24/24 [==============================] - 0s 607us/step - loss: 0.0809 - accuracy: 1.0000\n",
      "Epoch 96/100\n",
      "24/24 [==============================] - 0s 713us/step - loss: 0.0796 - accuracy: 1.0000\n",
      "Epoch 97/100\n",
      "24/24 [==============================] - 0s 652us/step - loss: 0.0784 - accuracy: 1.0000\n",
      "Epoch 98/100\n",
      "24/24 [==============================] - 0s 637us/step - loss: 0.0772 - accuracy: 1.0000\n",
      "Epoch 99/100\n",
      "24/24 [==============================] - 0s 591us/step - loss: 0.0760 - accuracy: 1.0000\n",
      "Epoch 100/100\n",
      "24/24 [==============================] - 0s 612us/step - loss: 0.0749 - accuracy: 1.0000\n"
     ]
    }
   ],
   "source": [
    "# Fit the model to the training data\n",
    "fit_model = nn_model.fit(X_train_scaled, y_train, epochs=100)"
   ]
  },
  {
   "cell_type": "code",
   "execution_count": 12,
   "id": "f75e40fd",
   "metadata": {},
   "outputs": [
    {
     "data": {
      "text/plain": [
       "<AxesSubplot:>"
      ]
     },
     "execution_count": 12,
     "metadata": {},
     "output_type": "execute_result"
    },
    {
     "data": {
      "image/png": "[encoded data removed]",
      "text/plain": [
       "<Figure size 432x288 with 1 Axes>"
      ]
     },
     "metadata": {
      "needs_background": "light"
     },
     "output_type": "display_data"
    }
   ],
   "source": [
    "# Create a DataFrame containing training history\n",
    "history_df = pd.DataFrame(fit_model.history, index=range(1,len(fit_model.history[\"loss\"])+1))\n",
    "\n",
    "# Plot the loss\n",
    "history_df.plot(y=\"loss\")"
   ]
  },
  {
   "cell_type": "code",
   "execution_count": 13,
   "id": "daf28863",
   "metadata": {},
   "outputs": [
    {
     "data": {
      "text/plain": [
       "<AxesSubplot:>"
      ]
     },
     "execution_count": 13,
     "metadata": {},
     "output_type": "execute_result"
    },
    {
     "data": {
      "image/png": "[encoded data removed]",
      "text/plain": [
       "<Figure size 432x288 with 1 Axes>"
      ]
     },
     "metadata": {
      "needs_background": "light"
     },
     "output_type": "display_data"
    }
   ],
   "source": [
    "# Plot the accuracy\n",
    "history_df.plot(y=\"accuracy\")"
   ]
  },
  {
   "cell_type": "code",
   "execution_count": 14,
   "id": "0467ff9f",
   "metadata": {},
   "outputs": [
    {
     "name": "stdout",
     "output_type": "stream",
     "text": [
      "8/8 - 0s - loss: 0.0766 - accuracy: 1.0000\n",
      "Loss: 0.076567642390728, Accuracy: 1.0\n"
     ]
    }
   ],
   "source": [
    "# Evaluate the model using the test data\n",
    "model_loss, model_accuracy = nn_model.evaluate(X_test_scaled, y_test, verbose=2)\n",
    "print(f'Loss: {model_loss}, Accuracy: {model_accuracy}')"
   ]
  },
  {
   "cell_type": "code",
   "execution_count": 15,
   "id": "c23efef8",
   "metadata": {},
   "outputs": [
    {
     "data": {
      "text/plain": [
       "array([[0],\n",
       "       [1],\n",
       "       [0],\n",
       "       [1],\n",
       "       [0],\n",
       "       [0],\n",
       "       [1],\n",
       "       [1],\n",
       "       [1],\n",
       "       [0]])"
      ]
     },
     "execution_count": 15,
     "metadata": {},
     "output_type": "execute_result"
    }
   ],
   "source": [
    "# Predict the classification of a new set of blob data\n",
    "new_X, new_Y = make_blobs(n_samples=10, centers=2, n_features=2, random_state=78)\n",
    "\n",
    "new_X_scaled = X_scaler.transform(new_X)\n",
    "\n",
    "(nn_model.predict(new_X_scaled) > 0.5).astype(\"int32\")"
   ]
  },
  {
   "cell_type": "markdown",
   "id": "7005d422",
   "metadata": {},
   "source": [
    "## Testing model with Non-linear data"
   ]
  },
  {
   "cell_type": "code",
   "execution_count": 16,
   "id": "dcb41197",
   "metadata": {
    "scrolled": true
   },
   "outputs": [
    {
     "data": {
      "text/plain": [
       "<AxesSubplot:xlabel='Feature 1', ylabel='Feature 2'>"
      ]
     },
     "execution_count": 16,
     "metadata": {},
     "output_type": "execute_result"
    },
    {
     "data": {
      "image/png": "[encoded data removed]",
      "text/plain": [
       "<Figure size 432x288 with 2 Axes>"
      ]
     },
     "metadata": {
      "needs_background": "light"
     },
     "output_type": "display_data"
    }
   ],
   "source": [
    "from sklearn.datasets import make_moons\n",
    "\n",
    "# Creating dummy nonlinear data\n",
    "X_moons, y_moons = make_moons(n_samples=1000, noise=0.08, random_state=78)\n",
    "\n",
    "# Transforming y_moons to a vertical vector\n",
    "y_moons = y_moons.reshape(-1, 1)\n",
    "\n",
    "# Creating a DataFrame to plot the nonlinear dummy data\n",
    "df_moons = pd.DataFrame(X_moons, columns=[\"Feature 1\", \"Feature 2\"])\n",
    "df_moons[\"Target\"] = y_moons\n",
    "\n",
    "# Plot the nonlinear dummy data\n",
    "df_moons.plot.scatter(x=\"Feature 1\",y=\"Feature 2\", c=\"Target\",colormap=\"winter\")"
   ]
  },
  {
   "cell_type": "code",
   "execution_count": 17,
   "id": "fb91c9a5",
   "metadata": {},
   "outputs": [
    {
     "data": {
      "image/png": "[encoded data removed]",
      "text/plain": [
       "<Figure size 432x288 with 1 Axes>"
      ]
     },
     "metadata": {
      "needs_background": "light"
     },
     "output_type": "display_data"
    }
   ],
   "source": [
    "#Skill Drill\n",
    "ax = df_moons.plot.box()"
   ]
  },
  {
   "cell_type": "code",
   "execution_count": 18,
   "id": "2bb789fc",
   "metadata": {},
   "outputs": [],
   "source": [
    "#Skill Drill\n",
    "#df_moons = df_moons[df_moons['Feature 1'] > -0.06]\n",
    "#ax = df_moons.plot.box()"
   ]
  },
  {
   "cell_type": "code",
   "execution_count": 19,
   "id": "10c52604",
   "metadata": {},
   "outputs": [],
   "source": [
    "# Create training and testing sets\n",
    "X_moon_train, X_moon_test, y_moon_train, y_moon_test = train_test_split(\n",
    "    X_moons, y_moons, random_state=78\n",
    ")\n",
    "\n",
    "# Create the scaler instance\n",
    "X_moon_scaler = skl.preprocessing.StandardScaler()\n",
    "\n",
    "# Fit the scaler\n",
    "X_moon_scaler.fit(X_moon_train)\n",
    "\n",
    "# Scale the data\n",
    "X_moon_train_scaled = X_moon_scaler.transform(X_moon_train)\n",
    "X_moon_test_scaled = X_moon_scaler.transform(X_moon_test)"
   ]
  },
  {
   "cell_type": "code",
   "execution_count": 20,
   "id": "8cd5df0c",
   "metadata": {
    "scrolled": true
   },
   "outputs": [
    {
     "name": "stdout",
     "output_type": "stream",
     "text": [
      "Epoch 1/100\n",
      "24/24 [==============================] - 0s 1ms/step - loss: 0.9599 - accuracy: 0.5187\n",
      "Epoch 2/100\n",
      "24/24 [==============================] - 0s 1ms/step - loss: 0.8780 - accuracy: 0.5307\n",
      "Epoch 3/100\n",
      "24/24 [==============================] - 0s 1ms/step - loss: 0.8192 - accuracy: 0.5373\n",
      "Epoch 4/100\n",
      "24/24 [==============================] - 0s 1ms/step - loss: 0.7761 - accuracy: 0.5480\n",
      "Epoch 5/100\n",
      "24/24 [==============================] - 0s 1ms/step - loss: 0.7423 - accuracy: 0.5587\n",
      "Epoch 6/100\n",
      "24/24 [==============================] - 0s 1ms/step - loss: 0.7149 - accuracy: 0.5653\n",
      "Epoch 7/100\n",
      "24/24 [==============================] - 0s 954us/step - loss: 0.6917 - accuracy: 0.5773\n",
      "Epoch 8/100\n",
      "24/24 [==============================] - 0s 1ms/step - loss: 0.6717 - accuracy: 0.5867\n",
      "Epoch 9/100\n",
      "24/24 [==============================] - 0s 1ms/step - loss: 0.6539 - accuracy: 0.6000\n",
      "Epoch 10/100\n",
      "24/24 [==============================] - 0s 1ms/step - loss: 0.6378 - accuracy: 0.6093\n",
      "Epoch 11/100\n",
      "24/24 [==============================] - 0s 1ms/step - loss: 0.6234 - accuracy: 0.6133\n",
      "Epoch 12/100\n",
      "24/24 [==============================] - 0s 1ms/step - loss: 0.6101 - accuracy: 0.6213\n",
      "Epoch 13/100\n",
      "24/24 [==============================] - 0s 1ms/step - loss: 0.5980 - accuracy: 0.6213\n",
      "Epoch 14/100\n",
      "24/24 [==============================] - 0s 953us/step - loss: 0.5871 - accuracy: 0.6280\n",
      "Epoch 15/100\n",
      "24/24 [==============================] - 0s 1ms/step - loss: 0.5766 - accuracy: 0.6360\n",
      "Epoch 16/100\n",
      "24/24 [==============================] - 0s 1ms/step - loss: 0.5670 - accuracy: 0.6427\n",
      "Epoch 17/100\n",
      "24/24 [==============================] - 0s 953us/step - loss: 0.5579 - accuracy: 0.6520\n",
      "Epoch 18/100\n",
      "24/24 [==============================] - 0s 919us/step - loss: 0.5494 - accuracy: 0.6547\n",
      "Epoch 19/100\n",
      "24/24 [==============================] - 0s 910us/step - loss: 0.5411 - accuracy: 0.6573\n",
      "Epoch 20/100\n",
      "24/24 [==============================] - 0s 957us/step - loss: 0.5335 - accuracy: 0.6627\n",
      "Epoch 21/100\n",
      "24/24 [==============================] - 0s 1ms/step - loss: 0.5262 - accuracy: 0.6720\n",
      "Epoch 22/100\n",
      "24/24 [==============================] - 0s 996us/step - loss: 0.5193 - accuracy: 0.6787\n",
      "Epoch 23/100\n",
      "24/24 [==============================] - 0s 1ms/step - loss: 0.5125 - accuracy: 0.6800\n",
      "Epoch 24/100\n",
      "24/24 [==============================] - 0s 1ms/step - loss: 0.5060 - accuracy: 0.6880\n",
      "Epoch 25/100\n",
      "24/24 [==============================] - 0s 1ms/step - loss: 0.4998 - accuracy: 0.6933\n",
      "Epoch 26/100\n",
      "24/24 [==============================] - 0s 1ms/step - loss: 0.4937 - accuracy: 0.6947\n",
      "Epoch 27/100\n",
      "24/24 [==============================] - 0s 980us/step - loss: 0.4879 - accuracy: 0.7000\n",
      "Epoch 28/100\n",
      "24/24 [==============================] - 0s 910us/step - loss: 0.4821 - accuracy: 0.7027\n",
      "Epoch 29/100\n",
      "24/24 [==============================] - 0s 976us/step - loss: 0.4766 - accuracy: 0.7080\n",
      "Epoch 30/100\n",
      "24/24 [==============================] - 0s 910us/step - loss: 0.4712 - accuracy: 0.7120\n",
      "Epoch 31/100\n",
      "24/24 [==============================] - 0s 1ms/step - loss: 0.4660 - accuracy: 0.7160\n",
      "Epoch 32/100\n",
      "24/24 [==============================] - 0s 948us/step - loss: 0.4608 - accuracy: 0.7213\n",
      "Epoch 33/100\n",
      "24/24 [==============================] - 0s 938us/step - loss: 0.4557 - accuracy: 0.7253\n",
      "Epoch 34/100\n",
      "24/24 [==============================] - 0s 1ms/step - loss: 0.4510 - accuracy: 0.7307\n",
      "Epoch 35/100\n",
      "24/24 [==============================] - 0s 865us/step - loss: 0.4461 - accuracy: 0.7333\n",
      "Epoch 36/100\n",
      "24/24 [==============================] - 0s 867us/step - loss: 0.4413 - accuracy: 0.7333\n",
      "Epoch 37/100\n",
      "24/24 [==============================] - 0s 1ms/step - loss: 0.4367 - accuracy: 0.7400\n",
      "Epoch 38/100\n",
      "24/24 [==============================] - 0s 954us/step - loss: 0.4321 - accuracy: 0.7493\n",
      "Epoch 39/100\n",
      "24/24 [==============================] - 0s 1ms/step - loss: 0.4276 - accuracy: 0.7520\n",
      "Epoch 40/100\n",
      "24/24 [==============================] - 0s 1ms/step - loss: 0.4232 - accuracy: 0.7587\n",
      "Epoch 41/100\n",
      "24/24 [==============================] - 0s 1ms/step - loss: 0.4189 - accuracy: 0.7627\n",
      "Epoch 42/100\n",
      "24/24 [==============================] - 0s 967us/step - loss: 0.4144 - accuracy: 0.7667\n",
      "Epoch 43/100\n",
      "24/24 [==============================] - 0s 882us/step - loss: 0.4103 - accuracy: 0.7707\n",
      "Epoch 44/100\n",
      "24/24 [==============================] - 0s 956us/step - loss: 0.4060 - accuracy: 0.7707\n",
      "Epoch 45/100\n",
      "24/24 [==============================] - 0s 997us/step - loss: 0.4019 - accuracy: 0.7773\n",
      "Epoch 46/100\n",
      "24/24 [==============================] - 0s 1ms/step - loss: 0.3978 - accuracy: 0.7800\n",
      "Epoch 47/100\n",
      "24/24 [==============================] - 0s 953us/step - loss: 0.3937 - accuracy: 0.7867\n",
      "Epoch 48/100\n",
      "24/24 [==============================] - 0s 910us/step - loss: 0.3899 - accuracy: 0.7867\n",
      "Epoch 49/100\n",
      "24/24 [==============================] - 0s 949us/step - loss: 0.3860 - accuracy: 0.7893\n",
      "Epoch 50/100\n",
      "24/24 [==============================] - 0s 856us/step - loss: 0.3821 - accuracy: 0.7933\n",
      "Epoch 51/100\n",
      "24/24 [==============================] - 0s 941us/step - loss: 0.3784 - accuracy: 0.7987\n",
      "Epoch 52/100\n",
      "24/24 [==============================] - 0s 908us/step - loss: 0.3746 - accuracy: 0.8053\n",
      "Epoch 53/100\n",
      "24/24 [==============================] - 0s 991us/step - loss: 0.3710 - accuracy: 0.8067\n",
      "Epoch 54/100\n",
      "24/24 [==============================] - 0s 887us/step - loss: 0.3675 - accuracy: 0.8080\n",
      "Epoch 55/100\n",
      "24/24 [==============================] - 0s 1ms/step - loss: 0.3641 - accuracy: 0.8107\n",
      "Epoch 56/100\n",
      "24/24 [==============================] - 0s 910us/step - loss: 0.3608 - accuracy: 0.8133\n",
      "Epoch 57/100\n",
      "24/24 [==============================] - 0s 958us/step - loss: 0.3575 - accuracy: 0.8133\n",
      "Epoch 58/100\n",
      "24/24 [==============================] - 0s 955us/step - loss: 0.3544 - accuracy: 0.8173\n",
      "Epoch 59/100\n",
      "24/24 [==============================] - 0s 908us/step - loss: 0.3512 - accuracy: 0.8200\n",
      "Epoch 60/100\n",
      "24/24 [==============================] - 0s 959us/step - loss: 0.3482 - accuracy: 0.8227\n",
      "Epoch 61/100\n",
      "24/24 [==============================] - 0s 910us/step - loss: 0.3453 - accuracy: 0.8227\n",
      "Epoch 62/100\n",
      "24/24 [==============================] - 0s 955us/step - loss: 0.3425 - accuracy: 0.8253\n",
      "Epoch 63/100\n",
      "24/24 [==============================] - 0s 929us/step - loss: 0.3398 - accuracy: 0.8253\n",
      "Epoch 64/100\n",
      "24/24 [==============================] - 0s 956us/step - loss: 0.3373 - accuracy: 0.8253\n",
      "Epoch 65/100\n",
      "24/24 [==============================] - 0s 910us/step - loss: 0.3346 - accuracy: 0.8267\n",
      "Epoch 66/100\n",
      "24/24 [==============================] - 0s 955us/step - loss: 0.3320 - accuracy: 0.8267\n",
      "Epoch 67/100\n",
      "24/24 [==============================] - 0s 910us/step - loss: 0.3296 - accuracy: 0.8267\n",
      "Epoch 68/100\n",
      "24/24 [==============================] - 0s 962us/step - loss: 0.3272 - accuracy: 0.8293\n",
      "Epoch 69/100\n",
      "24/24 [==============================] - 0s 957us/step - loss: 0.3249 - accuracy: 0.8307\n",
      "Epoch 70/100\n",
      "24/24 [==============================] - 0s 1ms/step - loss: 0.3226 - accuracy: 0.8320\n",
      "Epoch 71/100\n",
      "24/24 [==============================] - 0s 867us/step - loss: 0.3204 - accuracy: 0.8333\n",
      "Epoch 72/100\n",
      "24/24 [==============================] - 0s 1ms/step - loss: 0.3183 - accuracy: 0.8360\n",
      "Epoch 73/100\n",
      "24/24 [==============================] - 0s 997us/step - loss: 0.3162 - accuracy: 0.8387\n",
      "Epoch 74/100\n",
      "24/24 [==============================] - 0s 866us/step - loss: 0.3141 - accuracy: 0.8413\n",
      "Epoch 75/100\n",
      "24/24 [==============================] - 0s 907us/step - loss: 0.3121 - accuracy: 0.8440\n",
      "Epoch 76/100\n",
      "24/24 [==============================] - 0s 1ms/step - loss: 0.3103 - accuracy: 0.8440\n",
      "Epoch 77/100\n",
      "24/24 [==============================] - 0s 953us/step - loss: 0.3085 - accuracy: 0.8453\n",
      "Epoch 78/100\n",
      "24/24 [==============================] - 0s 910us/step - loss: 0.3066 - accuracy: 0.8467\n",
      "Epoch 79/100\n",
      "24/24 [==============================] - 0s 914us/step - loss: 0.3049 - accuracy: 0.8507\n",
      "Epoch 80/100\n",
      "24/24 [==============================] - 0s 884us/step - loss: 0.3032 - accuracy: 0.8547\n",
      "Epoch 81/100\n",
      "24/24 [==============================] - 0s 910us/step - loss: 0.3015 - accuracy: 0.8547\n"
     ]
    },
    {
     "name": "stdout",
     "output_type": "stream",
     "text": [
      "Epoch 82/100\n",
      "24/24 [==============================] - 0s 1ms/step - loss: 0.3000 - accuracy: 0.8560\n",
      "Epoch 83/100\n",
      "24/24 [==============================] - 0s 954us/step - loss: 0.2984 - accuracy: 0.8573\n",
      "Epoch 84/100\n",
      "24/24 [==============================] - 0s 997us/step - loss: 0.2968 - accuracy: 0.8587\n",
      "Epoch 85/100\n",
      "24/24 [==============================] - 0s 999us/step - loss: 0.2953 - accuracy: 0.8600\n",
      "Epoch 86/100\n",
      "24/24 [==============================] - 0s 953us/step - loss: 0.2939 - accuracy: 0.8627\n",
      "Epoch 87/100\n",
      "24/24 [==============================] - 0s 1ms/step - loss: 0.2926 - accuracy: 0.8640\n",
      "Epoch 88/100\n",
      "24/24 [==============================] - 0s 976us/step - loss: 0.2914 - accuracy: 0.8640\n",
      "Epoch 89/100\n",
      "24/24 [==============================] - 0s 953us/step - loss: 0.2900 - accuracy: 0.8653\n",
      "Epoch 90/100\n",
      "24/24 [==============================] - 0s 992us/step - loss: 0.2887 - accuracy: 0.8680\n",
      "Epoch 91/100\n",
      "24/24 [==============================] - 0s 910us/step - loss: 0.2875 - accuracy: 0.8680\n",
      "Epoch 92/100\n",
      "24/24 [==============================] - 0s 1ms/step - loss: 0.2863 - accuracy: 0.8680\n",
      "Epoch 93/100\n",
      "24/24 [==============================] - 0s 926us/step - loss: 0.2852 - accuracy: 0.8680\n",
      "Epoch 94/100\n",
      "24/24 [==============================] - 0s 910us/step - loss: 0.2841 - accuracy: 0.8680\n",
      "Epoch 95/100\n",
      "24/24 [==============================] - 0s 1ms/step - loss: 0.2830 - accuracy: 0.8680\n",
      "Epoch 96/100\n",
      "24/24 [==============================] - 0s 1ms/step - loss: 0.2819 - accuracy: 0.8693\n",
      "Epoch 97/100\n",
      "24/24 [==============================] - 0s 953us/step - loss: 0.2809 - accuracy: 0.8720\n",
      "Epoch 98/100\n",
      "24/24 [==============================] - 0s 925us/step - loss: 0.2799 - accuracy: 0.8720\n",
      "Epoch 99/100\n",
      "24/24 [==============================] - 0s 910us/step - loss: 0.2789 - accuracy: 0.8733\n",
      "Epoch 100/100\n",
      "24/24 [==============================] - 0s 882us/step - loss: 0.2780 - accuracy: 0.8747\n"
     ]
    }
   ],
   "source": [
    "# Training the model with the nonlinear data\n",
    "model_moon = nn_model.fit(X_moon_train_scaled, y_moon_train, epochs=100, shuffle=True)"
   ]
  },
  {
   "cell_type": "code",
   "execution_count": 21,
   "id": "a70f2d88",
   "metadata": {},
   "outputs": [
    {
     "data": {
      "text/plain": [
       "<AxesSubplot:>"
      ]
     },
     "execution_count": 21,
     "metadata": {},
     "output_type": "execute_result"
    },
    {
     "data": {
      "image/png": "[encoded data removed]",
      "text/plain": [
       "<Figure size 432x288 with 1 Axes>"
      ]
     },
     "metadata": {
      "needs_background": "light"
     },
     "output_type": "display_data"
    }
   ],
   "source": [
    "# Create a DataFrame containing training history\n",
    "history_df = pd.DataFrame(model_moon.history, index=range(1,len(model_moon.history[\"loss\"])+1))\n",
    "\n",
    "# Plot the loss\n",
    "history_df.plot(y=\"loss\")"
   ]
  },
  {
   "cell_type": "code",
   "execution_count": 22,
   "id": "29d7eebd",
   "metadata": {
    "scrolled": true
   },
   "outputs": [
    {
     "data": {
      "text/plain": [
       "<AxesSubplot:>"
      ]
     },
     "execution_count": 22,
     "metadata": {},
     "output_type": "execute_result"
    },
    {
     "data": {
      "image/png": "[encoded data removed]",
      "text/plain": [
       "<Figure size 432x288 with 1 Axes>"
      ]
     },
     "metadata": {
      "needs_background": "light"
     },
     "output_type": "display_data"
    }
   ],
   "source": [
    "# Plot the accuracy\n",
    "history_df.plot(y=\"accuracy\")"
   ]
  },
  {
   "cell_type": "markdown",
   "id": "330c7a8e",
   "metadata": {},
   "source": [
    "## neural network model with six neurons in the hidden layer"
   ]
  },
  {
   "cell_type": "code",
   "execution_count": 23,
   "id": "10586d58",
   "metadata": {},
   "outputs": [],
   "source": [
    "# Generate our new Sequential model\n",
    "new_model = tf.keras.models.Sequential()"
   ]
  },
  {
   "cell_type": "code",
   "execution_count": 24,
   "id": "90c1ffec",
   "metadata": {},
   "outputs": [],
   "source": [
    "# Add the input and hidden layer\n",
    "number_inputs = 2\n",
    "number_hidden_nodes = 6\n",
    "\n",
    "new_model.add(tf.keras.layers.Dense(units=number_hidden_nodes, activation=\"relu\", input_dim=number_inputs))\n",
    "\n",
    "# Add the output layer that uses a probability activation function\n",
    "new_model.add(tf.keras.layers.Dense(units=1, activation=\"sigmoid\"))"
   ]
  },
  {
   "cell_type": "code",
   "execution_count": 25,
   "id": "cf389e9e",
   "metadata": {},
   "outputs": [
    {
     "name": "stdout",
     "output_type": "stream",
     "text": [
      "Epoch 1/100\n",
      "24/24 [==============================] - 0s 1ms/step - loss: 0.6735 - accuracy: 0.3667\n",
      "Epoch 2/100\n",
      "24/24 [==============================] - 0s 768us/step - loss: 0.6432 - accuracy: 0.4787\n",
      "Epoch 3/100\n",
      "24/24 [==============================] - 0s 814us/step - loss: 0.6173 - accuracy: 0.6373\n",
      "Epoch 4/100\n",
      "24/24 [==============================] - 0s 753us/step - loss: 0.5951 - accuracy: 0.8027\n",
      "Epoch 5/100\n",
      "24/24 [==============================] - 0s 816us/step - loss: 0.5756 - accuracy: 0.8293\n",
      "Epoch 6/100\n",
      "24/24 [==============================] - 0s 946us/step - loss: 0.5581 - accuracy: 0.8347\n",
      "Epoch 7/100\n",
      "24/24 [==============================] - 0s 854us/step - loss: 0.5415 - accuracy: 0.8360\n",
      "Epoch 8/100\n",
      "24/24 [==============================] - 0s 804us/step - loss: 0.5250 - accuracy: 0.8387\n",
      "Epoch 9/100\n",
      "24/24 [==============================] - 0s 790us/step - loss: 0.5081 - accuracy: 0.8387\n",
      "Epoch 10/100\n",
      "24/24 [==============================] - 0s 650us/step - loss: 0.4907 - accuracy: 0.8373\n",
      "Epoch 11/100\n",
      "24/24 [==============================] - 0s 721us/step - loss: 0.4731 - accuracy: 0.8360\n",
      "Epoch 12/100\n",
      "24/24 [==============================] - 0s 790us/step - loss: 0.4559 - accuracy: 0.8320\n",
      "Epoch 13/100\n",
      "24/24 [==============================] - 0s 823us/step - loss: 0.4383 - accuracy: 0.8320\n",
      "Epoch 14/100\n",
      "24/24 [==============================] - 0s 759us/step - loss: 0.4217 - accuracy: 0.8360\n",
      "Epoch 15/100\n",
      "24/24 [==============================] - 0s 737us/step - loss: 0.4057 - accuracy: 0.8400\n",
      "Epoch 16/100\n",
      "24/24 [==============================] - 0s 741us/step - loss: 0.3908 - accuracy: 0.8493\n",
      "Epoch 17/100\n",
      "24/24 [==============================] - 0s 760us/step - loss: 0.3771 - accuracy: 0.8533\n",
      "Epoch 18/100\n",
      "24/24 [==============================] - 0s 771us/step - loss: 0.3646 - accuracy: 0.8573\n",
      "Epoch 19/100\n",
      "24/24 [==============================] - 0s 799us/step - loss: 0.3531 - accuracy: 0.8653\n",
      "Epoch 20/100\n",
      "24/24 [==============================] - 0s 753us/step - loss: 0.3427 - accuracy: 0.8667\n",
      "Epoch 21/100\n",
      "24/24 [==============================] - 0s 761us/step - loss: 0.3333 - accuracy: 0.8680\n",
      "Epoch 22/100\n",
      "24/24 [==============================] - 0s 3ms/step - loss: 0.3246 - accuracy: 0.8693\n",
      "Epoch 23/100\n",
      "24/24 [==============================] - 0s 831us/step - loss: 0.3168 - accuracy: 0.8707\n",
      "Epoch 24/100\n",
      "24/24 [==============================] - 0s 970us/step - loss: 0.3096 - accuracy: 0.8707\n",
      "Epoch 25/100\n",
      "24/24 [==============================] - 0s 1ms/step - loss: 0.3029 - accuracy: 0.8707\n",
      "Epoch 26/100\n",
      "24/24 [==============================] - 0s 2ms/step - loss: 0.2968 - accuracy: 0.8720\n",
      "Epoch 27/100\n",
      "24/24 [==============================] - 0s 1ms/step - loss: 0.2911 - accuracy: 0.8733\n",
      "Epoch 28/100\n",
      "24/24 [==============================] - 0s 975us/step - loss: 0.2860 - accuracy: 0.8760\n",
      "Epoch 29/100\n",
      "24/24 [==============================] - 0s 981us/step - loss: 0.2812 - accuracy: 0.8787\n",
      "Epoch 30/100\n",
      "24/24 [==============================] - 0s 829us/step - loss: 0.2768 - accuracy: 0.8800\n",
      "Epoch 31/100\n",
      "24/24 [==============================] - 0s 736us/step - loss: 0.2727 - accuracy: 0.8840\n",
      "Epoch 32/100\n",
      "24/24 [==============================] - 0s 766us/step - loss: 0.2688 - accuracy: 0.8880\n",
      "Epoch 33/100\n",
      "24/24 [==============================] - 0s 788us/step - loss: 0.2652 - accuracy: 0.8907\n",
      "Epoch 34/100\n",
      "24/24 [==============================] - 0s 834us/step - loss: 0.2618 - accuracy: 0.8933\n",
      "Epoch 35/100\n",
      "24/24 [==============================] - 0s 783us/step - loss: 0.2586 - accuracy: 0.8933\n",
      "Epoch 36/100\n",
      "24/24 [==============================] - 0s 737us/step - loss: 0.2556 - accuracy: 0.8933\n",
      "Epoch 37/100\n",
      "24/24 [==============================] - 0s 847us/step - loss: 0.2529 - accuracy: 0.8960\n",
      "Epoch 38/100\n",
      "24/24 [==============================] - 0s 825us/step - loss: 0.2502 - accuracy: 0.8960\n",
      "Epoch 39/100\n",
      "24/24 [==============================] - 0s 833us/step - loss: 0.2477 - accuracy: 0.8960\n",
      "Epoch 40/100\n",
      "24/24 [==============================] - 0s 782us/step - loss: 0.2454 - accuracy: 0.8973\n",
      "Epoch 41/100\n",
      "24/24 [==============================] - 0s 804us/step - loss: 0.2432 - accuracy: 0.8973\n",
      "Epoch 42/100\n",
      "24/24 [==============================] - 0s 794us/step - loss: 0.2411 - accuracy: 0.9000\n",
      "Epoch 43/100\n",
      "24/24 [==============================] - 0s 780us/step - loss: 0.2391 - accuracy: 0.9013\n",
      "Epoch 44/100\n",
      "24/24 [==============================] - 0s 736us/step - loss: 0.2371 - accuracy: 0.9013\n",
      "Epoch 45/100\n",
      "24/24 [==============================] - 0s 797us/step - loss: 0.2352 - accuracy: 0.9013\n",
      "Epoch 46/100\n",
      "24/24 [==============================] - 0s 774us/step - loss: 0.2334 - accuracy: 0.9040\n",
      "Epoch 47/100\n",
      "24/24 [==============================] - 0s 837us/step - loss: 0.2317 - accuracy: 0.9040\n",
      "Epoch 48/100\n",
      "24/24 [==============================] - 0s 599us/step - loss: 0.2301 - accuracy: 0.9053\n",
      "Epoch 49/100\n",
      "24/24 [==============================] - 0s 1ms/step - loss: 0.2285 - accuracy: 0.9067\n",
      "Epoch 50/100\n",
      "24/24 [==============================] - 0s 823us/step - loss: 0.2270 - accuracy: 0.9067\n",
      "Epoch 51/100\n",
      "24/24 [==============================] - 0s 926us/step - loss: 0.2255 - accuracy: 0.9093\n",
      "Epoch 52/100\n",
      "24/24 [==============================] - 0s 1ms/step - loss: 0.2241 - accuracy: 0.9093\n",
      "Epoch 53/100\n",
      "24/24 [==============================] - 0s 1ms/step - loss: 0.2227 - accuracy: 0.9093\n",
      "Epoch 54/100\n",
      "24/24 [==============================] - 0s 937us/step - loss: 0.2213 - accuracy: 0.9107\n",
      "Epoch 55/100\n",
      "24/24 [==============================] - 0s 826us/step - loss: 0.2200 - accuracy: 0.9107\n",
      "Epoch 56/100\n",
      "24/24 [==============================] - 0s 774us/step - loss: 0.2186 - accuracy: 0.9107\n",
      "Epoch 57/100\n",
      "24/24 [==============================] - 0s 751us/step - loss: 0.2175 - accuracy: 0.9120\n",
      "Epoch 58/100\n",
      "24/24 [==============================] - 0s 749us/step - loss: 0.2160 - accuracy: 0.9133\n",
      "Epoch 59/100\n",
      "24/24 [==============================] - 0s 737us/step - loss: 0.2148 - accuracy: 0.9133\n",
      "Epoch 60/100\n",
      "24/24 [==============================] - 0s 780us/step - loss: 0.2134 - accuracy: 0.9147\n",
      "Epoch 61/100\n",
      "24/24 [==============================] - 0s 780us/step - loss: 0.2121 - accuracy: 0.9147\n",
      "Epoch 62/100\n",
      "24/24 [==============================] - 0s 617us/step - loss: 0.2108 - accuracy: 0.9147\n",
      "Epoch 63/100\n",
      "24/24 [==============================] - 0s 690us/step - loss: 0.2095 - accuracy: 0.9160\n",
      "Epoch 64/100\n",
      "24/24 [==============================] - 0s 669us/step - loss: 0.2081 - accuracy: 0.9160\n",
      "Epoch 65/100\n",
      "24/24 [==============================] - 0s 725us/step - loss: 0.2069 - accuracy: 0.9173\n",
      "Epoch 66/100\n",
      "24/24 [==============================] - 0s 784us/step - loss: 0.2055 - accuracy: 0.9173\n",
      "Epoch 67/100\n",
      "24/24 [==============================] - 0s 759us/step - loss: 0.2041 - accuracy: 0.9187\n",
      "Epoch 68/100\n",
      "24/24 [==============================] - 0s 742us/step - loss: 0.2027 - accuracy: 0.9187\n",
      "Epoch 69/100\n",
      "24/24 [==============================] - 0s 737us/step - loss: 0.2014 - accuracy: 0.9200\n",
      "Epoch 70/100\n",
      "24/24 [==============================] - 0s 737us/step - loss: 0.2001 - accuracy: 0.9213\n",
      "Epoch 71/100\n",
      "24/24 [==============================] - 0s 736us/step - loss: 0.1987 - accuracy: 0.9213\n",
      "Epoch 72/100\n",
      "24/24 [==============================] - 0s 762us/step - loss: 0.1973 - accuracy: 0.9227\n",
      "Epoch 73/100\n",
      "24/24 [==============================] - 0s 737us/step - loss: 0.1959 - accuracy: 0.9227\n",
      "Epoch 74/100\n",
      "24/24 [==============================] - 0s 711us/step - loss: 0.1945 - accuracy: 0.9227\n",
      "Epoch 75/100\n",
      "24/24 [==============================] - 0s 787us/step - loss: 0.1931 - accuracy: 0.9267\n",
      "Epoch 76/100\n",
      "24/24 [==============================] - 0s 780us/step - loss: 0.1916 - accuracy: 0.9267\n",
      "Epoch 77/100\n",
      "24/24 [==============================] - 0s 731us/step - loss: 0.1903 - accuracy: 0.9267\n",
      "Epoch 78/100\n",
      "24/24 [==============================] - 0s 768us/step - loss: 0.1888 - accuracy: 0.9267\n",
      "Epoch 79/100\n",
      "24/24 [==============================] - 0s 693us/step - loss: 0.1874 - accuracy: 0.9267\n",
      "Epoch 80/100\n",
      "24/24 [==============================] - 0s 805us/step - loss: 0.1861 - accuracy: 0.9267\n",
      "Epoch 81/100\n"
     ]
    },
    {
     "name": "stdout",
     "output_type": "stream",
     "text": [
      "24/24 [==============================] - 0s 755us/step - loss: 0.1845 - accuracy: 0.9293\n",
      "Epoch 82/100\n",
      "24/24 [==============================] - 0s 823us/step - loss: 0.1830 - accuracy: 0.9293\n",
      "Epoch 83/100\n",
      "24/24 [==============================] - 0s 1ms/step - loss: 0.1814 - accuracy: 0.9293\n",
      "Epoch 84/100\n",
      "24/24 [==============================] - 0s 791us/step - loss: 0.1798 - accuracy: 0.9307\n",
      "Epoch 85/100\n",
      "24/24 [==============================] - 0s 757us/step - loss: 0.1783 - accuracy: 0.9307\n",
      "Epoch 86/100\n",
      "24/24 [==============================] - 0s 783us/step - loss: 0.1768 - accuracy: 0.9307\n",
      "Epoch 87/100\n",
      "24/24 [==============================] - 0s 1ms/step - loss: 0.1753 - accuracy: 0.9333\n",
      "Epoch 88/100\n",
      "24/24 [==============================] - 0s 747us/step - loss: 0.1738 - accuracy: 0.9333\n",
      "Epoch 89/100\n",
      "24/24 [==============================] - 0s 1ms/step - loss: 0.1722 - accuracy: 0.9347\n",
      "Epoch 90/100\n",
      "24/24 [==============================] - 0s 1ms/step - loss: 0.1706 - accuracy: 0.9347\n",
      "Epoch 91/100\n",
      "24/24 [==============================] - 0s 1ms/step - loss: 0.1691 - accuracy: 0.9347\n",
      "Epoch 92/100\n",
      "24/24 [==============================] - 0s 1ms/step - loss: 0.1675 - accuracy: 0.9360\n",
      "Epoch 93/100\n",
      "24/24 [==============================] - 0s 913us/step - loss: 0.1660 - accuracy: 0.9373\n",
      "Epoch 94/100\n",
      "24/24 [==============================] - 0s 764us/step - loss: 0.1642 - accuracy: 0.9400\n",
      "Epoch 95/100\n",
      "24/24 [==============================] - 0s 813us/step - loss: 0.1627 - accuracy: 0.9400\n",
      "Epoch 96/100\n",
      "24/24 [==============================] - 0s 904us/step - loss: 0.1610 - accuracy: 0.9400\n",
      "Epoch 97/100\n",
      "24/24 [==============================] - 0s 655us/step - loss: 0.1594 - accuracy: 0.9400\n",
      "Epoch 98/100\n",
      "24/24 [==============================] - 0s 665us/step - loss: 0.1577 - accuracy: 0.9400\n",
      "Epoch 99/100\n",
      "24/24 [==============================] - 0s 656us/step - loss: 0.1561 - accuracy: 0.9400\n",
      "Epoch 100/100\n",
      "24/24 [==============================] - 0s 658us/step - loss: 0.1544 - accuracy: 0.9413\n"
     ]
    }
   ],
   "source": [
    "# Compile the Sequential model together and customize metrics\n",
    "new_model.compile(loss=\"binary_crossentropy\", optimizer=\"adam\", metrics=[\"accuracy\"])\n",
    "\n",
    "# Fit the model to the training data\n",
    "new_fit_model = new_model.fit(X_moon_train_scaled, y_moon_train, epochs=100, shuffle=True)"
   ]
  },
  {
   "cell_type": "code",
   "execution_count": 26,
   "id": "61d622e9",
   "metadata": {},
   "outputs": [
    {
     "data": {
      "text/plain": [
       "<AxesSubplot:>"
      ]
     },
     "execution_count": 26,
     "metadata": {},
     "output_type": "execute_result"
    },
    {
     "data": {
      "image/png": "[encoded data removed]",
      "text/plain": [
       "<Figure size 432x288 with 1 Axes>"
      ]
     },
     "metadata": {
      "needs_background": "light"
     },
     "output_type": "display_data"
    }
   ],
   "source": [
    "# Create a DataFrame containing training history\n",
    "history_df = pd.DataFrame(new_fit_model.history, index=range(1,len(model_moon.history[\"loss\"])+1))\n",
    "\n",
    "# Plot the loss\n",
    "history_df.plot(y=\"loss\")"
   ]
  },
  {
   "cell_type": "code",
   "execution_count": 27,
   "id": "b72b5dab",
   "metadata": {},
   "outputs": [
    {
     "data": {
      "text/plain": [
       "<AxesSubplot:>"
      ]
     },
     "execution_count": 27,
     "metadata": {},
     "output_type": "execute_result"
    },
    {
     "data": {
      "image/png": "[encoded data removed]",
      "text/plain": [
       "<Figure size 432x288 with 1 Axes>"
      ]
     },
     "metadata": {
      "needs_background": "light"
     },
     "output_type": "display_data"
    }
   ],
   "source": [
    "# Plot the accuracy\n",
    "history_df.plot(y=\"accuracy\")"
   ]
  },
  {
   "cell_type": "code",
   "execution_count": null,
   "id": "d969a121",
   "metadata": {},
   "outputs": [],
   "source": [
    "#Start with 19.3.1"
   ]
  }
 ],
 "metadata": {
  "kernelspec": {
   "display_name": "mlenv",
   "language": "python",
   "name": "mlenv"
  },
  "language_info": {
   "codemirror_mode": {
    "name": "ipython",
    "version": 3
   },
   "file_extension": ".py",
   "mimetype": "text/x-python",
   "name": "python",
   "nbconvert_exporter": "python",
   "pygments_lexer": "ipython3",
   "version": "3.7.10"
  }
 },
 "nbformat": 4,
 "nbformat_minor": 5
}
